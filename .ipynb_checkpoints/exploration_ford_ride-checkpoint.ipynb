{
 "cells": [
  {
   "cell_type": "markdown",
   "metadata": {},
   "source": [
    "## Ford GoBike System Data\n",
    "## by Haofei\n"
   ]
  },
  {
   "cell_type": "markdown",
   "metadata": {},
   "source": [
    "CRISP-DM Process\n",
    "\n",
    "Business Understanding: This presentation is to discuss how the Ford GoBike can leverage its daily bike usage data to make corresponding business decisions. Three business aspect questions were asked before diving into the dataset:\n",
    "\n",
    "1. How long are bikes used per ride?\n",
    "\n",
    "2. When should we deploy more bikes on the street\n",
    "\n",
    "3. The impact of bike share?\n",
    "\n",
    "Data Understanding：Ford GoBike contains 3,065 unique bikes and 94,802 rides. There are total 12 variables in this dataset.\n",
    "\n",
    "Prepare Data: Data Wrangling. Please refer to Preprocessing for detail.\n",
    "\n",
    "Data Exploration: Used univariate and multivariate visualization to present the result. Please refer to Exploration for detail.\n",
    "\n",
    "Evaluate the Results: Result and discussion are published in https://medium.com/@mahaofei001/ford-bike-duration-ca746cc7dbfc"
   ]
  },
  {
   "cell_type": "code",
   "execution_count": null,
   "metadata": {},
   "outputs": [],
   "source": []
  },
  {
   "cell_type": "markdown",
   "metadata": {},
   "source": [
    "## Preprocessing"
   ]
  },
  {
   "cell_type": "code",
   "execution_count": 1,
   "metadata": {},
   "outputs": [],
   "source": [
    "# import all packages and set plots to be embedded inline\n",
    "import numpy as np\n",
    "import pandas as pd\n",
    "import matplotlib.pyplot as plt\n",
    "import seaborn as sns\n",
    "\n",
    "#import geopy \n",
    "#import folium\n",
    "\n",
    "%matplotlib inline"
   ]
  },
  {
   "cell_type": "markdown",
   "metadata": {},
   "source": [
    "### Data assessment and cleaning"
   ]
  },
  {
   "cell_type": "code",
   "execution_count": 6,
   "metadata": {},
   "outputs": [
    {
     "data": {
      "text/html": [
       "<div>\n",
       "<style scoped>\n",
       "    .dataframe tbody tr th:only-of-type {\n",
       "        vertical-align: middle;\n",
       "    }\n",
       "\n",
       "    .dataframe tbody tr th {\n",
       "        vertical-align: top;\n",
       "    }\n",
       "\n",
       "    .dataframe thead th {\n",
       "        text-align: right;\n",
       "    }\n",
       "</style>\n",
       "<table border=\"1\" class=\"dataframe\">\n",
       "  <thead>\n",
       "    <tr style=\"text-align: right;\">\n",
       "      <th></th>\n",
       "      <th>duration_sec</th>\n",
       "      <th>start_time</th>\n",
       "      <th>end_time</th>\n",
       "      <th>start_station_name</th>\n",
       "      <th>end_station_name</th>\n",
       "      <th>bike_id</th>\n",
       "      <th>user_type</th>\n",
       "      <th>bike_share_for_all_trip</th>\n",
       "      <th>dayofweek</th>\n",
       "      <th>start_hr</th>\n",
       "    </tr>\n",
       "  </thead>\n",
       "  <tbody>\n",
       "    <tr>\n",
       "      <th>0</th>\n",
       "      <td>75284</td>\n",
       "      <td>2018-01-31 22:52:35.239</td>\n",
       "      <td>2018-02-01 19:47:19.824</td>\n",
       "      <td>Mission Dolores Park</td>\n",
       "      <td>Webster St at O'Farrell St</td>\n",
       "      <td>2765</td>\n",
       "      <td>Subscriber</td>\n",
       "      <td>No</td>\n",
       "      <td>2</td>\n",
       "      <td>22</td>\n",
       "    </tr>\n",
       "    <tr>\n",
       "      <th>1</th>\n",
       "      <td>85422</td>\n",
       "      <td>2018-01-31 16:13:34.351</td>\n",
       "      <td>2018-02-01 15:57:17.310</td>\n",
       "      <td>San Francisco Ferry Building (Harry Bridges Pl...</td>\n",
       "      <td>San Francisco Ferry Building (Harry Bridges Pl...</td>\n",
       "      <td>2815</td>\n",
       "      <td>Customer</td>\n",
       "      <td>No</td>\n",
       "      <td>2</td>\n",
       "      <td>16</td>\n",
       "    </tr>\n",
       "    <tr>\n",
       "      <th>2</th>\n",
       "      <td>71576</td>\n",
       "      <td>2018-01-31 14:23:55.889</td>\n",
       "      <td>2018-02-01 10:16:52.116</td>\n",
       "      <td>Jackson St at 5th St</td>\n",
       "      <td>5th St at Virginia St</td>\n",
       "      <td>3039</td>\n",
       "      <td>Customer</td>\n",
       "      <td>No</td>\n",
       "      <td>2</td>\n",
       "      <td>14</td>\n",
       "    </tr>\n",
       "    <tr>\n",
       "      <th>3</th>\n",
       "      <td>61076</td>\n",
       "      <td>2018-01-31 14:53:23.562</td>\n",
       "      <td>2018-02-01 07:51:20.500</td>\n",
       "      <td>Market St at Franklin St</td>\n",
       "      <td>4th St at Harrison St</td>\n",
       "      <td>321</td>\n",
       "      <td>Customer</td>\n",
       "      <td>No</td>\n",
       "      <td>2</td>\n",
       "      <td>14</td>\n",
       "    </tr>\n",
       "    <tr>\n",
       "      <th>4</th>\n",
       "      <td>39966</td>\n",
       "      <td>2018-01-31 19:52:24.667</td>\n",
       "      <td>2018-02-01 06:58:31.053</td>\n",
       "      <td>Laguna St at Hayes St</td>\n",
       "      <td>Post St at Kearny St</td>\n",
       "      <td>617</td>\n",
       "      <td>Subscriber</td>\n",
       "      <td>No</td>\n",
       "      <td>2</td>\n",
       "      <td>19</td>\n",
       "    </tr>\n",
       "  </tbody>\n",
       "</table>\n",
       "</div>"
      ],
      "text/plain": [
       "   duration_sec              start_time                end_time  \\\n",
       "0         75284 2018-01-31 22:52:35.239 2018-02-01 19:47:19.824   \n",
       "1         85422 2018-01-31 16:13:34.351 2018-02-01 15:57:17.310   \n",
       "2         71576 2018-01-31 14:23:55.889 2018-02-01 10:16:52.116   \n",
       "3         61076 2018-01-31 14:53:23.562 2018-02-01 07:51:20.500   \n",
       "4         39966 2018-01-31 19:52:24.667 2018-02-01 06:58:31.053   \n",
       "\n",
       "                                  start_station_name  \\\n",
       "0                               Mission Dolores Park   \n",
       "1  San Francisco Ferry Building (Harry Bridges Pl...   \n",
       "2                               Jackson St at 5th St   \n",
       "3                           Market St at Franklin St   \n",
       "4                              Laguna St at Hayes St   \n",
       "\n",
       "                                    end_station_name  bike_id   user_type  \\\n",
       "0                         Webster St at O'Farrell St     2765  Subscriber   \n",
       "1  San Francisco Ferry Building (Harry Bridges Pl...     2815    Customer   \n",
       "2                              5th St at Virginia St     3039    Customer   \n",
       "3                              4th St at Harrison St      321    Customer   \n",
       "4                               Post St at Kearny St      617  Subscriber   \n",
       "\n",
       "  bike_share_for_all_trip  dayofweek  start_hr  \n",
       "0                      No          2        22  \n",
       "1                      No          2        16  \n",
       "2                      No          2        14  \n",
       "3                      No          2        14  \n",
       "4                      No          2        19  "
      ]
     },
     "execution_count": 6,
     "metadata": {},
     "output_type": "execute_result"
    }
   ],
   "source": [
    "def preprocessing():\n",
    "    \n",
    "    '''\n",
    "    input:\n",
    "        No input required.\n",
    "    output:\n",
    "        df: The preprocessed data\n",
    "\n",
    "    '''\n",
    "    df = pd.read_csv('201801-fordgobike-tripdata.csv')\n",
    "    # drop extra column\n",
    "    df.drop(['start_station_latitude','start_station_longitude','end_station_latitude',\\\n",
    "        'end_station_longitude','start_station_id','end_station_id'],axis=1,inplace=True)\n",
    "    # change data type \n",
    "    for col in ['start_time','end_time']:\n",
    "        df[col] = pd.to_datetime(df[col])\n",
    "    \n",
    "    # Specify the day of the week of each ride\n",
    "    df['dayofweek'] = df['start_time'].apply(lambda x:x.dayofweek)\n",
    "    #Specify the start hour of each ride\n",
    "    df['start_hr'] = df['start_time'].apply(lambda x:x.hour)\n",
    "    \n",
    "    return df\n",
    "\n",
    "\n",
    "\n",
    "df = preprocessing()\n",
    "df.head()\n",
    "df.info()"
   ]
  },
  {
   "cell_type": "code",
   "execution_count": 8,
   "metadata": {},
   "outputs": [
    {
     "data": {
      "text/plain": [
       "duration_sec               0\n",
       "start_time                 0\n",
       "end_time                   0\n",
       "start_station_name         0\n",
       "end_station_name           0\n",
       "bike_id                    0\n",
       "user_type                  0\n",
       "bike_share_for_all_trip    0\n",
       "dayofweek                  0\n",
       "start_hr                   0\n",
       "dtype: int64"
      ]
     },
     "execution_count": 8,
     "metadata": {},
     "output_type": "execute_result"
    }
   ],
   "source": [
    "# check N/A and there is no need to clean N/A data\n",
    "df.isna().sum()"
   ]
  },
  {
   "cell_type": "code",
   "execution_count": 11,
   "metadata": {},
   "outputs": [
    {
     "data": {
      "text/html": [
       "<div>\n",
       "<style scoped>\n",
       "    .dataframe tbody tr th:only-of-type {\n",
       "        vertical-align: middle;\n",
       "    }\n",
       "\n",
       "    .dataframe tbody tr th {\n",
       "        vertical-align: top;\n",
       "    }\n",
       "\n",
       "    .dataframe thead th {\n",
       "        text-align: right;\n",
       "    }\n",
       "</style>\n",
       "<table border=\"1\" class=\"dataframe\">\n",
       "  <thead>\n",
       "    <tr style=\"text-align: right;\">\n",
       "      <th></th>\n",
       "      <th>duration_sec</th>\n",
       "      <th>start_time</th>\n",
       "      <th>end_time</th>\n",
       "      <th>start_station_name</th>\n",
       "      <th>end_station_name</th>\n",
       "      <th>bike_id</th>\n",
       "      <th>user_type</th>\n",
       "      <th>bike_share_for_all_trip</th>\n",
       "      <th>dayofweek</th>\n",
       "      <th>start_hr</th>\n",
       "    </tr>\n",
       "  </thead>\n",
       "  <tbody>\n",
       "    <tr>\n",
       "      <th>0</th>\n",
       "      <td>75284</td>\n",
       "      <td>2018-01-31 22:52:35.239</td>\n",
       "      <td>2018-02-01 19:47:19.824</td>\n",
       "      <td>Mission Dolores Park</td>\n",
       "      <td>Webster St at O'Farrell St</td>\n",
       "      <td>2765</td>\n",
       "      <td>Subscriber</td>\n",
       "      <td>No</td>\n",
       "      <td>2</td>\n",
       "      <td>22</td>\n",
       "    </tr>\n",
       "    <tr>\n",
       "      <th>1</th>\n",
       "      <td>85422</td>\n",
       "      <td>2018-01-31 16:13:34.351</td>\n",
       "      <td>2018-02-01 15:57:17.310</td>\n",
       "      <td>San Francisco Ferry Building (Harry Bridges Pl...</td>\n",
       "      <td>San Francisco Ferry Building (Harry Bridges Pl...</td>\n",
       "      <td>2815</td>\n",
       "      <td>Customer</td>\n",
       "      <td>No</td>\n",
       "      <td>2</td>\n",
       "      <td>16</td>\n",
       "    </tr>\n",
       "    <tr>\n",
       "      <th>2</th>\n",
       "      <td>71576</td>\n",
       "      <td>2018-01-31 14:23:55.889</td>\n",
       "      <td>2018-02-01 10:16:52.116</td>\n",
       "      <td>Jackson St at 5th St</td>\n",
       "      <td>5th St at Virginia St</td>\n",
       "      <td>3039</td>\n",
       "      <td>Customer</td>\n",
       "      <td>No</td>\n",
       "      <td>2</td>\n",
       "      <td>14</td>\n",
       "    </tr>\n",
       "    <tr>\n",
       "      <th>3</th>\n",
       "      <td>61076</td>\n",
       "      <td>2018-01-31 14:53:23.562</td>\n",
       "      <td>2018-02-01 07:51:20.500</td>\n",
       "      <td>Market St at Franklin St</td>\n",
       "      <td>4th St at Harrison St</td>\n",
       "      <td>321</td>\n",
       "      <td>Customer</td>\n",
       "      <td>No</td>\n",
       "      <td>2</td>\n",
       "      <td>14</td>\n",
       "    </tr>\n",
       "    <tr>\n",
       "      <th>4</th>\n",
       "      <td>39966</td>\n",
       "      <td>2018-01-31 19:52:24.667</td>\n",
       "      <td>2018-02-01 06:58:31.053</td>\n",
       "      <td>Laguna St at Hayes St</td>\n",
       "      <td>Post St at Kearny St</td>\n",
       "      <td>617</td>\n",
       "      <td>Subscriber</td>\n",
       "      <td>No</td>\n",
       "      <td>2</td>\n",
       "      <td>19</td>\n",
       "    </tr>\n",
       "  </tbody>\n",
       "</table>\n",
       "</div>"
      ],
      "text/plain": [
       "   duration_sec              start_time                end_time  \\\n",
       "0         75284 2018-01-31 22:52:35.239 2018-02-01 19:47:19.824   \n",
       "1         85422 2018-01-31 16:13:34.351 2018-02-01 15:57:17.310   \n",
       "2         71576 2018-01-31 14:23:55.889 2018-02-01 10:16:52.116   \n",
       "3         61076 2018-01-31 14:53:23.562 2018-02-01 07:51:20.500   \n",
       "4         39966 2018-01-31 19:52:24.667 2018-02-01 06:58:31.053   \n",
       "\n",
       "                                  start_station_name  \\\n",
       "0                               Mission Dolores Park   \n",
       "1  San Francisco Ferry Building (Harry Bridges Pl...   \n",
       "2                               Jackson St at 5th St   \n",
       "3                           Market St at Franklin St   \n",
       "4                              Laguna St at Hayes St   \n",
       "\n",
       "                                    end_station_name  bike_id   user_type  \\\n",
       "0                         Webster St at O'Farrell St     2765  Subscriber   \n",
       "1  San Francisco Ferry Building (Harry Bridges Pl...     2815    Customer   \n",
       "2                              5th St at Virginia St     3039    Customer   \n",
       "3                              4th St at Harrison St      321    Customer   \n",
       "4                               Post St at Kearny St      617  Subscriber   \n",
       "\n",
       "  bike_share_for_all_trip  dayofweek  start_hr  \n",
       "0                      No          2        22  \n",
       "1                      No          2        16  \n",
       "2                      No          2        14  \n",
       "3                      No          2        14  \n",
       "4                      No          2        19  "
      ]
     },
     "execution_count": 11,
     "metadata": {},
     "output_type": "execute_result"
    }
   ],
   "source": [
    "df.head()"
   ]
  },
  {
   "cell_type": "code",
   "execution_count": 47,
   "metadata": {},
   "outputs": [],
   "source": [
    "# import folium\n",
    "# map1=folium.Map(location=[37.7692,-122.4209],\n",
    "#                 titles='test',\n",
    "#                 zoom_start = 12\n",
    "# )\n",
    "\n",
    "# df.apply(lambda row:folium.CircleMarker(location=[row[\"start_lat\"], row[\"start_lng\"]]).add_to(map1), axis=1)\n",
    "# map1.save('index.html')\n"
   ]
  },
  {
   "cell_type": "markdown",
   "metadata": {},
   "source": [
    "### What is the structure of your dataset?\n",
    "\n",
    "> This data contains 3,065 unique bikes and 94,802 rides. There are total 12 variables in this dataset, as below:\n",
    ">>duration, rideable_type, started_at, ended_at, start_station_name, start_station_id, end_station_name, end_station_id, start_lat, start_lng,end_lat, end_lng,user_Type and bike_share.     \n",
    "\n",
    "\n",
    "### What is/are the main feature(s) of interest in your dataset?\n",
    "\n",
    "> Average Trip duration\n",
    "> The peak hour of the trips\n",
    "> Whether member or casual user impacts the above two questions.\n",
    "\n",
    "### What features in the dataset do you think will help support your investigation into your feature(s) of interest?\n",
    "\n",
    "> Started_at, ended_at, duration, user_type and bike share."
   ]
  },
  {
   "cell_type": "markdown",
   "metadata": {},
   "source": [
    "## Data Exploration\n",
    "\n"
   ]
  },
  {
   "cell_type": "code",
   "execution_count": 111,
   "metadata": {},
   "outputs": [
    {
     "data": {
      "image/png": "[encoded data removed]",
      "text/plain": [
       "<Figure size 432x288 with 1 Axes>"
      ]
     },
     "metadata": {
      "needs_background": "light"
     },
     "output_type": "display_data"
    }
   ],
   "source": [
    "#plotting the average trip duration\n",
    "\n",
    "bin_edge = np.arange(0,df['duration_sec'].max()+100, 60)\n",
    "\n",
    "plt.hist(data=df, x='duration_sec',bins=bin_edge)\n",
    "plt.xlim(0,8000)\n",
    "plt.title('Average Bike Trip Duration Secs')\n",
    "plt.xlabel('Duration Secs')\n",
    "plt.ylabel('Number of Rides');"
   ]
  },
  {
   "cell_type": "code",
   "execution_count": 117,
   "metadata": {},
   "outputs": [
    {
     "name": "stderr",
     "output_type": "stream",
     "text": [
      "C:\\Users\\mahao\\anaconda3\\lib\\site-packages\\ipykernel_launcher.py:11: UserWarning: Attempted to set non-positive left xlim on a log-scaled axis.\n",
      "Invalid limit will be ignored.\n",
      "  # This is added back by InteractiveShellApp.init_path()\n"
     ]
    },
    {
     "data": {
      "image/png": "[encoded data removed]",
      "text/plain": [
       "<Figure size 432x288 with 1 Axes>"
      ]
     },
     "metadata": {
      "needs_background": "light"
     },
     "output_type": "display_data"
    }
   ],
   "source": [
    "# plotting the average trip duration in minutes and scale it\n",
    "\n",
    "bin_edge = 10**np.arange(0,3+0.1,0.1)\n",
    "\n",
    "ticks = [1,3,10,30,100,300,1000]\n",
    "labels = ['{}'.format(v) for v in ticks]\n",
    "df['duration_min'] = df['duration_sec']/60\n",
    "plt.hist(data=df, x='duration_min',bins=bin_edge)\n",
    "plt.xscale('log')\n",
    "plt.xticks(ticks,labels);\n",
    "plt.xlim(0,300)\n",
    "\n",
    "plt.title('Average Bike Trip Duration Minutes')\n",
    "plt.xlabel('Duration Minutes')\n",
    "plt.ylabel('Number of Rides');"
   ]
  },
  {
   "cell_type": "markdown",
   "metadata": {},
   "source": [
    "The average duration is a symmetric distribution after log-scale it. The majority of bike duration concentrades around 10 minutes. \n"
   ]
  },
  {
   "cell_type": "markdown",
   "metadata": {},
   "source": [
    "### Discuss the distribution(s) of your variable(s) of interest. Were there any unusual points? Did you need to perform any transformations?\n",
    "\n",
    "> The original distribution of duration variable is right skewed. There are some extremely large duration at the right tail. A log-scale on minutes distribution is needed to make distribution more symmetric.  \n",
    "\n",
    "### Of the features you investigated, were there any unusual distributions? Did you perform any operations on the data to tidy, adjust, or change the form of the data? If so, why did you do this?\n",
    "\n",
    "> Right skewed. Log scale it. Duration based on minutes is easier for audience to accept. "
   ]
  },
  {
   "cell_type": "markdown",
   "metadata": {},
   "source": [
    "## Bivariate Exploration\n",
    "\n"
   ]
  },
  {
   "cell_type": "markdown",
   "metadata": {},
   "source": [
    "## Duration in regarding to start time"
   ]
  },
  {
   "cell_type": "code",
   "execution_count": 160,
   "metadata": {},
   "outputs": [
    {
     "data": {
      "text/plain": [
       "3        55\n",
       "4       121\n",
       "2       146\n",
       "1       236\n",
       "0       455\n",
       "5       470\n",
       "23      782\n",
       "22     1317\n",
       "6      1864\n",
       "21     2019\n",
       "20     2848\n",
       "14     4106\n",
       "11     4182\n",
       "13     4579\n",
       "19     4680\n",
       "12     4783\n",
       "10     4804\n",
       "15     4853\n",
       "7      5589\n",
       "16     7200\n",
       "18     8128\n",
       "9      9002\n",
       "17    11103\n",
       "8     11480\n",
       "Name: start_hr, dtype: int64"
      ]
     },
     "execution_count": 160,
     "metadata": {},
     "output_type": "execute_result"
    }
   ],
   "source": [
    "df.start_hr.value_counts().sort_values()"
   ]
  },
  {
   "cell_type": "code",
   "execution_count": 158,
   "metadata": {},
   "outputs": [
    {
     "data": {
      "text/plain": [
       "27.965824175824153"
      ]
     },
     "execution_count": 158,
     "metadata": {},
     "output_type": "execute_result"
    }
   ],
   "source": [
    "df.query(\"start_hr==0\").duration_min.mean()"
   ]
  },
  {
   "cell_type": "code",
   "execution_count": 170,
   "metadata": {},
   "outputs": [],
   "source": [
    "df_start_hr = df.groupby('start_hr').duration_min.sum()\n",
    "xlabel = a.index.astype('str')\n"
   ]
  },
  {
   "cell_type": "code",
   "execution_count": 190,
   "metadata": {},
   "outputs": [
    {
     "data": {
      "image/png": "[encoded data removed]",
      "text/plain": [
       "<Figure size 1210x550 with 1 Axes>"
      ]
     },
     "metadata": {
      "needs_background": "light"
     },
     "output_type": "display_data"
    }
   ],
   "source": [
    "fig, ax = plt.subplots(figsize = (11,5), dpi = 110)\n",
    "\n",
    "plt.bar(xlabel, df_start_hr)\n",
    "cur_axes = plt.gca()\n",
    "cur_axes.axes.get_yaxis().set_visible(False)\n",
    "sns.despine(fig, left = True)\n",
    "plt.xlabel('hour')\n",
    "plt.ylabel('Duration_mins')\n",
    "plt.title('Relative Duration of trip per start hour')\n",
    "for b in ax.patches:\n",
    "    ax.annotate('{:10.1f}%'.format(b.get_height()/sum(df_start_hr)*100), (b.get_x()-1,b.get_height()))\n",
    "\n"
   ]
  },
  {
   "cell_type": "code",
   "execution_count": null,
   "metadata": {},
   "outputs": [],
   "source": []
  },
  {
   "cell_type": "markdown",
   "metadata": {},
   "source": [
    "### Talk about some of the relationships you observed in this part of the investigation. How did the feature(s) of interest vary with other features in the dataset?\n",
    "\n",
    "> The relative duration bar chart above shows there are two peak time period at 0800 and 1700. It coincides with the fact people go out for work around 8 am and go back home around 5 pm. \n",
    "\n",
    "### Did you observe any interesting relationships between the other features (not the main feature(s) of interest)?\n",
    "\n",
    "> There is a dramtic downward pattern after 1700 and begins to increase at 0600. "
   ]
  },
  {
   "cell_type": "markdown",
   "metadata": {},
   "source": [
    "## Multivariate Exploration\n"
   ]
  },
  {
   "cell_type": "code",
   "execution_count": 205,
   "metadata": {},
   "outputs": [
    {
     "data": {
      "text/html": [
       "<div>\n",
       "<style scoped>\n",
       "    .dataframe tbody tr th:only-of-type {\n",
       "        vertical-align: middle;\n",
       "    }\n",
       "\n",
       "    .dataframe tbody tr th {\n",
       "        vertical-align: top;\n",
       "    }\n",
       "\n",
       "    .dataframe thead th {\n",
       "        text-align: right;\n",
       "    }\n",
       "</style>\n",
       "<table border=\"1\" class=\"dataframe\">\n",
       "  <thead>\n",
       "    <tr style=\"text-align: right;\">\n",
       "      <th></th>\n",
       "      <th>dayofweek</th>\n",
       "      <th>start_hr</th>\n",
       "      <th>bike_share_for_all_trip</th>\n",
       "      <th>duration_min</th>\n",
       "    </tr>\n",
       "  </thead>\n",
       "  <tbody>\n",
       "    <tr>\n",
       "      <th>0</th>\n",
       "      <td>0</td>\n",
       "      <td>0</td>\n",
       "      <td>No</td>\n",
       "      <td>2052.200000</td>\n",
       "    </tr>\n",
       "    <tr>\n",
       "      <th>1</th>\n",
       "      <td>0</td>\n",
       "      <td>0</td>\n",
       "      <td>Yes</td>\n",
       "      <td>333.066667</td>\n",
       "    </tr>\n",
       "    <tr>\n",
       "      <th>2</th>\n",
       "      <td>0</td>\n",
       "      <td>1</td>\n",
       "      <td>No</td>\n",
       "      <td>848.983333</td>\n",
       "    </tr>\n",
       "    <tr>\n",
       "      <th>3</th>\n",
       "      <td>0</td>\n",
       "      <td>1</td>\n",
       "      <td>Yes</td>\n",
       "      <td>54.500000</td>\n",
       "    </tr>\n",
       "    <tr>\n",
       "      <th>4</th>\n",
       "      <td>0</td>\n",
       "      <td>2</td>\n",
       "      <td>No</td>\n",
       "      <td>721.466667</td>\n",
       "    </tr>\n",
       "    <tr>\n",
       "      <th>...</th>\n",
       "      <td>...</td>\n",
       "      <td>...</td>\n",
       "      <td>...</td>\n",
       "      <td>...</td>\n",
       "    </tr>\n",
       "    <tr>\n",
       "      <th>331</th>\n",
       "      <td>6</td>\n",
       "      <td>21</td>\n",
       "      <td>Yes</td>\n",
       "      <td>857.833333</td>\n",
       "    </tr>\n",
       "    <tr>\n",
       "      <th>332</th>\n",
       "      <td>6</td>\n",
       "      <td>22</td>\n",
       "      <td>No</td>\n",
       "      <td>1007.916667</td>\n",
       "    </tr>\n",
       "    <tr>\n",
       "      <th>333</th>\n",
       "      <td>6</td>\n",
       "      <td>22</td>\n",
       "      <td>Yes</td>\n",
       "      <td>243.983333</td>\n",
       "    </tr>\n",
       "    <tr>\n",
       "      <th>334</th>\n",
       "      <td>6</td>\n",
       "      <td>23</td>\n",
       "      <td>No</td>\n",
       "      <td>611.533333</td>\n",
       "    </tr>\n",
       "    <tr>\n",
       "      <th>335</th>\n",
       "      <td>6</td>\n",
       "      <td>23</td>\n",
       "      <td>Yes</td>\n",
       "      <td>133.433333</td>\n",
       "    </tr>\n",
       "  </tbody>\n",
       "</table>\n",
       "<p>336 rows × 4 columns</p>\n",
       "</div>"
      ],
      "text/plain": [
       "     dayofweek  start_hr bike_share_for_all_trip  duration_min\n",
       "0            0         0                      No   2052.200000\n",
       "1            0         0                     Yes    333.066667\n",
       "2            0         1                      No    848.983333\n",
       "3            0         1                     Yes     54.500000\n",
       "4            0         2                      No    721.466667\n",
       "..         ...       ...                     ...           ...\n",
       "331          6        21                     Yes    857.833333\n",
       "332          6        22                      No   1007.916667\n",
       "333          6        22                     Yes    243.983333\n",
       "334          6        23                      No    611.533333\n",
       "335          6        23                     Yes    133.433333\n",
       "\n",
       "[336 rows x 4 columns]"
      ]
     },
     "execution_count": 205,
     "metadata": {},
     "output_type": "execute_result"
    }
   ],
   "source": [
    "df_three = df.groupby(['dayofweek','start_hr','bike_share_for_all_trip'], as_index=False).duration_min.sum()\n",
    "\n",
    "df_three"
   ]
  },
  {
   "cell_type": "code",
   "execution_count": 211,
   "metadata": {},
   "outputs": [
    {
     "data": {
      "image/png": "[encoded data removed]",
      "text/plain": [
       "<Figure size 1320x770 with 1 Axes>"
      ]
     },
     "metadata": {
      "needs_background": "light"
     },
     "output_type": "display_data"
    }
   ],
   "source": [
    "fig, ax = plt.subplots(figsize = (12,7), dpi = 110)\n",
    "sns.boxplot(x = \"start_hr\", y = \"duration_min\", data = df_three, palette = \"viridis\", hue = \"bike_share_for_all_trip\")\n",
    "plt.tight_layout()\n",
    "#cur_axes = plt.gca()\n",
    "#cur_axes.axes.get_yaxis().set_visible(False)\n",
    "sns.despine(fig, left = True)\n",
    "plt.xlabel(\"hour\")\n",
    "plt.ylabel(\"Duration in mins\")\n",
    "plt.title(\"Total trip duration per hour\")\n",
    "\n",
    "ax.set(xticklabels=xlabel);\n",
    "\n",
    "box = ax.get_position()\n",
    "ax.set_position([box.x0, box.y0, box.width * 0.8, box.height])"
   ]
  },
  {
   "cell_type": "markdown",
   "metadata": {},
   "source": [
    "### Talk about some of the relationships you observed in this part of the investigation. Were there features that strengthened each other in terms of looking at your feature(s) of interest?\n",
    "\n",
    "> The majority of rides is not bike share. The duration of shared bike ride at each hour is really minimal. \n",
    "\n",
    "### Were there any interesting or surprising interactions between features?\n",
    "\n",
    "> The peak hours (at 0800 and 1700) are the most volitale during the week. The impact from day of week is different among different working hours. "
   ]
  },
  {
   "cell_type": "code",
   "execution_count": null,
   "metadata": {},
   "outputs": [],
   "source": []
  }
 ],
 "metadata": {
  "kernelspec": {
   "display_name": "Python 3",
   "language": "python",
   "name": "python3"
  },
  "language_info": {
   "codemirror_mode": {
    "name": "ipython",
    "version": 3
   },
   "file_extension": ".py",
   "mimetype": "text/x-python",
   "name": "python",
   "nbconvert_exporter": "python",
   "pygments_lexer": "ipython3",
   "version": "3.7.7"
  }
 },
 "nbformat": 4,
 "nbformat_minor": 2
}
